{
 "cells": [
  {
   "cell_type": "markdown",
   "id": "59f19b27-422f-4c12-848b-5d4d5fe58da9",
   "metadata": {},
   "source": [
    "# Here the code will give the flatten duck curve without user's input of storage."
   ]
  },
  {
   "cell_type": "code",
   "execution_count": 35,
   "id": "6ed751f3-fabb-4f5f-90fd-c252469c3194",
   "metadata": {},
   "outputs": [
    {
     "name": "stderr",
     "output_type": "stream",
     "text": [
      "C:\\Users\\sumit\\AppData\\Local\\Temp\\ipykernel_17708\\314015804.py:23: UserWarning: Parsing dates in %d-%m-%Y %H:%M format when dayfirst=False (the default) was specified. Pass `dayfirst=True` or specify a format to silence this warning.\n",
      "  df['datetime']  = pd.to_datetime(df['timestamp'])\n"
     ]
    },
    {
     "name": "stdout",
     "output_type": "stream",
     "text": [
      "Saved → D:\\IIT BOMBAY\\May 2025\\Duck_Curve\\combined_data_with_storage3.xlsx\n"
     ]
    }
   ],
   "source": [
    "import pandas as pd\n",
    "\n",
    "# ─────────────────────────────────────────────────────────────\n",
    "# 1. INPUTS\n",
    "# ─────────────────────────────────────────────────────────────\n",
    "installed_capacity = {\n",
    "    2020: 36050.74,\n",
    "    2021: 46275.14,\n",
    "    2022: 60813.93,\n",
    "    2023: 71780.74,\n",
    "    2024: 90762.10,\n",
    "    2030: 280000.00\n",
    "}\n",
    "\n",
    "poa_csv     = r\"D:\\IIT BOMBAY\\May 2025\\Duck_Curve\\POA.csv\"\n",
    "demand_xlsx = r\"D:\\IIT BOMBAY\\May 2025\\Duck_Curve\\Demand 2020_24.xlsx\"\n",
    "output_xlsx = r\"D:\\IIT BOMBAY\\May 2025\\Duck_Curve\\combined_data_with_storage3.xlsx\"\n",
    "\n",
    "# ─────────────────────────────────────────────────────────────\n",
    "# 2. READ  POA  +  DEMAND   →  BASIC NET-LOAD\n",
    "# ─────────────────────────────────────────────────────────────\n",
    "df = pd.read_csv(poa_csv)\n",
    "df['datetime']  = pd.to_datetime(df['timestamp'])\n",
    "df['year']      = df['datetime'].dt.year\n",
    "df['month_day'] = df['datetime'].dt.strftime('%m-%d')\n",
    "df['hour']      = df['datetime'].dt.hour\n",
    "\n",
    "# Plane-of-array → MW\n",
    "df['solar_generation'] = df.apply(\n",
    "    lambda r: installed_capacity[r.year] * r.poa / 1000, axis=1\n",
    ")\n",
    "\n",
    "demand = pd.read_excel(demand_xlsx)\n",
    "if len(df) != len(demand):\n",
    "    raise ValueError(\"POA rows ≠ demand rows\")\n",
    "df['demand']   = demand['Hourly Demand Met (in MW)']\n",
    "df['net_load'] = df['demand'] - df['solar_generation']\n",
    "\n",
    "# ─────────────────────────────────────────────────────────────\n",
    "# 3. 2030-ONLY ▸ DAYTIME SURPLUS & ANYTIME DISCHARGE\n",
    "# ─────────────────────────────────────────────────────────────\n",
    "df['solar_stored_day']          = 0.0   # MWh h⁻¹\n",
    "df['storage_discharged_night']  = 0.0\n",
    "\n",
    "mask2030 = df['year'] == 2030\n",
    "for day in df.loc[mask2030, 'month_day'].unique():\n",
    "    sel = mask2030 & (df['month_day'] == day)\n",
    "    avg_nl = df.loc[sel, 'net_load'].mean()  # daily reference level\n",
    "\n",
    "    # DAY: 07–18 → charge any positive surplus\n",
    "    day_hours = sel & df['hour'].between(7, 18)\n",
    "    df.loc[day_hours, 'solar_stored_day'] = (\n",
    "        (avg_nl - df.loc[day_hours, 'net_load']).clip(lower=0)\n",
    "    )\n",
    "\n",
    "    # ANYTIME → discharge whenever net_load > avg_nl\n",
    "    df.loc[sel, 'storage_discharged_night'] = (\n",
    "        (df.loc[sel, 'net_load'] - avg_nl).clip(lower=0)\n",
    "    )\n",
    "\n",
    "# ─────────────────────────────────────────────────────────────\n",
    "# 4. FINAL DUCK CURVE (2030 WITH STORAGE)\n",
    "# ─────────────────────────────────────────────────────────────\n",
    "df['net_load_final'] = (\n",
    "      df['demand']\n",
    "    - df['solar_generation']\n",
    "    + df['solar_stored_day']\n",
    "    - df['storage_discharged_night']\n",
    ")\n",
    "\n",
    "df.to_excel(output_xlsx, index=False)\n",
    "print(\"Saved →\", output_xlsx)\n"
   ]
  },
  {
   "cell_type": "code",
   "execution_count": 37,
   "id": "22887f92-4129-453f-9ae3-d0ff69e4d4c5",
   "metadata": {},
   "outputs": [
    {
     "name": "stderr",
     "output_type": "stream",
     "text": [
      "C:\\Users\\sumit\\AppData\\Local\\Temp\\ipykernel_17708\\4001896050.py:9: UserWarning: Parsing dates in %d-%m-%Y %H:%M format when dayfirst=False (the default) was specified. Pass `dayfirst=True` or specify a format to silence this warning.\n",
      "  df['datetime']     = pd.to_datetime(df['timestamp'])\n"
     ]
    },
    {
     "name": "stdout",
     "output_type": "stream",
     "text": [
      "Plots saved to D:\\IIT BOMBAY\\May 2025\\Duck_Curve\\dc_Oct_upto_2030\n"
     ]
    }
   ],
   "source": [
    "import pandas as pd\n",
    "import matplotlib.pyplot as plt\n",
    "import os\n",
    "\n",
    "df = pd.read_excel(r\"D:\\IIT BOMBAY\\May 2025\\Duck_Curve\\combined_data_with_storage3.xlsx\")\n",
    "\n",
    "# rebuild helper columns if necessary\n",
    "if 'hour_shifted' not in df.columns:\n",
    "    df['datetime']     = pd.to_datetime(df['timestamp'])\n",
    "    df['hour']         = df['datetime'].dt.hour\n",
    "    df['hour_shifted'] = (df['hour'] - 23) % 24    # 23:00 → 0, 22:00 → 1, ...\n",
    "\n",
    "out_dir = r\"D:\\IIT BOMBAY\\May 2025\\Duck_Curve\\dc_Oct_upto_2030\"\n",
    "os.makedirs(out_dir, exist_ok=True)\n",
    "\n",
    "for day in sorted(df['month_day'].unique()):\n",
    "    today = df[df['month_day'] == day]\n",
    "\n",
    "    plt.figure(figsize=(10, 5))\n",
    "\n",
    "    # 2020-2024 + original 2030\n",
    "    for yr in sorted(today['year'].unique()):\n",
    "        trace = today[today['year'] == yr].sort_values('hour_shifted')\n",
    "\n",
    "        # close the 24-h loop\n",
    "        first = trace.iloc[0].copy(); first['hour_shifted'] = 24\n",
    "        trace = pd.concat([trace, pd.DataFrame([first])], ignore_index=True)\n",
    "\n",
    "        ls = '--' if yr == 2030 else '-'\n",
    "        plt.plot(trace['hour_shifted'], trace['net_load'],\n",
    "                 linestyle=ls, marker='o', label=f\"{yr} Duck\")\n",
    "\n",
    "    # 2030 WITH STORAGE\n",
    "    new = today[today['year'] == 2030].sort_values('hour_shifted')\n",
    "    if not new.empty:\n",
    "        first = new.iloc[0].copy(); first['hour_shifted'] = 24\n",
    "        new   = pd.concat([new, pd.DataFrame([first])], ignore_index=True)\n",
    "\n",
    "        plt.plot(new['hour_shifted'], new['net_load_final'],\n",
    "                 linewidth=2.5, label=\"2030 Duck Curve with Storage\")\n",
    "\n",
    "    # cosmetics\n",
    "    xt = list(range(0, 25, 2))\n",
    "    xl = [\"23:00\" if x in (0, 24) else f\"{(x-1)%24:02d}:00\" for x in xt]\n",
    "    plt.xticks(xt, xl)\n",
    "    plt.xlabel(\"Hour of the Day\")\n",
    "    plt.ylabel(\"Net Load (MW)\")\n",
    "    plt.title(f\"Duck Curves vs. 2030-with-Storage — {day}\")\n",
    "    plt.grid(True, ls=\"--\", alpha=0.6)\n",
    "    plt.legend(title=\"Year \", fontsize=8)\n",
    "\n",
    "    fn = os.path.join(out_dir, f\"duck_curve_{day}.png\")\n",
    "    plt.savefig(fn, bbox_inches='tight')\n",
    "    plt.close()\n",
    "\n",
    "print(\"Plots saved to\", out_dir)"
   ]
  },
  {
   "cell_type": "code",
   "execution_count": null,
   "id": "061cdfc5-c215-4847-baf2-eb21e542aa3e",
   "metadata": {},
   "outputs": [],
   "source": []
  }
 ],
 "metadata": {
  "kernelspec": {
   "display_name": "Python 3 (ipykernel)",
   "language": "python",
   "name": "python3"
  },
  "language_info": {
   "codemirror_mode": {
    "name": "ipython",
    "version": 3
   },
   "file_extension": ".py",
   "mimetype": "text/x-python",
   "name": "python",
   "nbconvert_exporter": "python",
   "pygments_lexer": "ipython3",
   "version": "3.12.3"
  }
 },
 "nbformat": 4,
 "nbformat_minor": 5
}
